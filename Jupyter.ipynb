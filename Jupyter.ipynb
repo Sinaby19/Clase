{
 "cells": [
  {
   "cell_type": "code",
   "execution_count": 2,
   "metadata": {},
   "outputs": [
    {
     "name": "stdout",
     "output_type": "stream",
     "text": [
      "Dame un número\n",
      "Número Impar o divisible entre cinco\n"
     ]
    }
   ],
   "source": [
    "print (\"Dame un número\")\n",
    "num = int (input())\n",
    "if num % 2 == 0:\n",
    "    print (\"Número Par o divisible entre \")\n",
    "if num % 3 == 0:\n",
    "    print (\"Número Impar o divisible entre tres\")\n",
    "if num % 5 == 0:\n",
    "    print (\"Número Impar o divisible entre cinco\")"
   ]
  }
 ],
 "metadata": {
  "kernelspec": {
   "display_name": "Python 3.10.4 64-bit",
   "language": "python",
   "name": "python3"
  },
  "language_info": {
   "codemirror_mode": {
    "name": "ipython",
    "version": 3
   },
   "file_extension": ".py",
   "mimetype": "text/x-python",
   "name": "python",
   "nbconvert_exporter": "python",
   "pygments_lexer": "ipython3",
   "version": "3.10.4"
  },
  "orig_nbformat": 4,
  "vscode": {
   "interpreter": {
    "hash": "9e208daafbaa95391aa562b1a235072f8a7cb17329ea464ff97a5efff577bc9e"
   }
  }
 },
 "nbformat": 4,
 "nbformat_minor": 2
}
